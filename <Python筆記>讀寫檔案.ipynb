{
  "metadata": {
    "kernelspec": {
      "language": "python",
      "display_name": "Python 3",
      "name": "python3"
    },
    "language_info": {
      "name": "python",
      "version": "3.11.11",
      "mimetype": "text/x-python",
      "codemirror_mode": {
        "name": "ipython",
        "version": 3
      },
      "pygments_lexer": "ipython3",
      "nbconvert_exporter": "python",
      "file_extension": ".py"
    },
    "kaggle": {
      "accelerator": "none",
      "dataSources": [],
      "dockerImageVersionId": 31040,
      "isInternetEnabled": true,
      "language": "python",
      "sourceType": "notebook",
      "isGpuEnabled": false
    },
    "colab": {
      "name": "<Python自學筆記>讀寫檔案",
      "provenance": [],
      "include_colab_link": true
    }
  },
  "nbformat_minor": 0,
  "nbformat": 4,
  "cells": [
    {
      "cell_type": "markdown",
      "metadata": {
        "id": "view-in-github",
        "colab_type": "text"
      },
      "source": [
        "<a href=\"https://colab.research.google.com/github/Chen-Mei-Chen/Python_Self_Learning/blob/main/%3CPython%E7%AD%86%E8%A8%98%3E%E8%AE%80%E5%AF%AB%E6%AA%94%E6%A1%88.ipynb\" target=\"_parent\"><img src=\"https://colab.research.google.com/assets/colab-badge.svg\" alt=\"Open In Colab\"/></a>"
      ]
    },
    {
      "cell_type": "code",
      "source": [
        "import os\n",
        "\n",
        "base_path = \"/kaggle/working/my_test_folder\"\n",
        "os.makedirs(base_path, exist_ok=True)\n",
        "\n",
        "for folder in ['docs', 'images', 'music']:\n",
        "    os.makedirs(os.path.join(base_path, folder), exist_ok=True)\n",
        "\n",
        "with open(os.path.join(base_path, 'readme.txt'), 'w') as f:\n",
        "    f.write(\"This is a test file.\")\n",
        "\n",
        "print(\"建立成功，現在你可以從這裡開始操作：\", base_path)\n"
      ],
      "metadata": {
        "_uuid": "8f2839f25d086af736a60e9eeb907d3b93b6e0e5",
        "_cell_guid": "b1076dfc-b9ad-4769-8c92-a6c4dae69d19",
        "trusted": true,
        "execution": {
          "iopub.status.busy": "2025-07-05T11:35:48.336028Z",
          "iopub.execute_input": "2025-07-05T11:35:48.33636Z",
          "iopub.status.idle": "2025-07-05T11:35:48.344302Z",
          "shell.execute_reply.started": "2025-07-05T11:35:48.336336Z",
          "shell.execute_reply": "2025-07-05T11:35:48.343233Z"
        },
        "_kg_hide-input": true,
        "id": "EaiK-Q7-g4bn"
      },
      "outputs": [],
      "execution_count": null
    },
    {
      "cell_type": "markdown",
      "source": [
        "上面的程式碼可以先不用理會，只要知道這段做了什麼：\n",
        "* 建立了一個資料夾叫 my_test_folder\n",
        "* 在裡面放了三個子資料夾：docs、images、music\n",
        "* 建立了一個叫 readme.txt 的檔案，裡面有簡單的文字\n",
        "\n",
        "\n",
        "### **建立路徑與資料夾:**"
      ],
      "metadata": {
        "id": "3RX1Dujsg4bv"
      }
    },
    {
      "cell_type": "code",
      "source": [
        "#顯示目前的工作資料夾\n",
        "print(os.getcwd())\n",
        "\n",
        "#列出我目前所在的這個資料夾裡的所有東西，然後會回傳一個list\n",
        "print(os.listdir())\n",
        "\n",
        "#把單獨檔案 readme.txt 放進 my_test_folder\n",
        "#由於windows、linux對於檔案路徑的格式不同(有人用/有人用\\)，故必須使用這種\"路徑黏著劑\"自動轉換\n",
        "full_path = os.path.join(\"my_test_folder\", \"readme.txt\")\n",
        "print(full_path)"
      ],
      "metadata": {
        "trusted": true,
        "execution": {
          "iopub.status.busy": "2025-07-04T16:30:56.036248Z",
          "iopub.execute_input": "2025-07-04T16:30:56.036544Z",
          "iopub.status.idle": "2025-07-04T16:30:56.042734Z",
          "shell.execute_reply.started": "2025-07-04T16:30:56.036523Z",
          "shell.execute_reply": "2025-07-04T16:30:56.041726Z"
        },
        "id": "ryIWnGkug4by"
      },
      "outputs": [],
      "execution_count": null
    },
    {
      "cell_type": "code",
      "source": [
        "#開啟並讀取檔案\n",
        "\n",
        "'''所以以後開檔案都要像這樣，不可自己用/\\定義路徑'''\n",
        "\n",
        "file_path = os.path.join(\"my_test_folder\", \"readme.txt\")\n",
        "\n",
        "with open(file_path, \"r\") as f:    #記住:這步驟才是建立完成!join回傳的只是字串，與建檔無關\n",
        "    content = f.read()\n",
        "\n",
        "print(\"檔案內容是：\")\n",
        "print(content)"
      ],
      "metadata": {
        "trusted": true,
        "execution": {
          "iopub.status.busy": "2025-07-04T16:30:59.605623Z",
          "iopub.execute_input": "2025-07-04T16:30:59.606268Z",
          "iopub.status.idle": "2025-07-04T16:30:59.613593Z",
          "shell.execute_reply.started": "2025-07-04T16:30:59.60624Z",
          "shell.execute_reply": "2025-07-04T16:30:59.612368Z"
        },
        "id": "ipaO6Tsbg4bz"
      },
      "outputs": [],
      "execution_count": null
    },
    {
      "cell_type": "markdown",
      "source": [
        "\"with......as 某字母\" 是 Python 的「自動關XX」寫法，不會忘記關掉。\n",
        "* 比方說未來會出現with requests.Session() as s: 進行 HTTP 通訊，請求完自動關閉連線\n",
        "* with zipfile.ZipFile(...) as zipf: 操作壓縮檔（zip），讀寫完自動關掉\n",
        "\n",
        "\n",
        "在更下方的縮排內容中，也可以做寫入:\n",
        "\n",
        "f.write(\"XXXXX\")   未來可以搭配迴圈之類的，反正所有關掉檔案之前的動作都可以在縮排時先進行"
      ],
      "metadata": {
        "id": "fHOAOgccg4b0"
      }
    },
    {
      "cell_type": "markdown",
      "source": [
        "**單元 1 小挑戰任務：**\n",
        "\n",
        "* ✅ 在 my_test_folder/docs 裡面\n",
        "* ✅ 建立一個名為 note.txt 的文字檔\n",
        "* ✅ 寫入一句話：「今天學會用 Python 找資料夾了！」\n",
        "* ✅ 再寫一句話：「我又寫了一句！」\n",
        "* ✅ 寫完之後再把這個檔案讀出來，顯示在畫面上\n",
        "* ✅ 再把這個檔案一行一行讀出來，顯示在畫面上"
      ],
      "metadata": {
        "id": "A67FyPvig4b1"
      }
    },
    {
      "cell_type": "code",
      "source": [
        "#解答:\n",
        "\n",
        "with open(os.path.join(\"my_test_folder\", \"note.txt\"),\"w\") as f:\n",
        "    f.write(\"今天學會用 Python 找資料夾了！\")\n",
        "\n",
        "with open(os.path.join(\"my_test_folder\", \"note.txt\"),\"a\") as f:\n",
        "    f.write(\"我又寫了一句！\")\n",
        "\n",
        "with open(os.path.join(\"my_test_folder\", \"note.txt\"),\"r\") as f:\n",
        "    read = f.read()\n",
        "print(read)\n",
        "\n",
        "with open(os.path.join(\"my_test_folder\", \"note.txt\"), \"r\") as f:\n",
        "    lines = f.readlines()\n",
        "print(lines)\n",
        "\n",
        "#注意:一次只能選一種模式:r、w、或a\n",
        "#w是直接編輯，每次編輯都會覆蓋原本的內容，如欲保留之前的內容往下寫，就要用append模式"
      ],
      "metadata": {
        "trusted": true,
        "execution": {
          "iopub.status.busy": "2025-07-05T07:59:48.688334Z",
          "iopub.execute_input": "2025-07-05T07:59:48.689341Z",
          "iopub.status.idle": "2025-07-05T07:59:48.698584Z",
          "shell.execute_reply.started": "2025-07-05T07:59:48.689304Z",
          "shell.execute_reply": "2025-07-05T07:59:48.697821Z"
        },
        "id": "XPgUuDEJg4b2"
      },
      "outputs": [],
      "execution_count": null
    },
    {
      "cell_type": "markdown",
      "source": [
        "**補充:用writelines一次寫入多行:**\n",
        "\n",
        "writelines接收的是 list、tuple 或任何 iterable，只要裡面每個元素是「字串」就可以\n",
        "\n",
        "因此可以先列好字串資料，再一口氣寫入同一個txt檔中，不過要注意:\\n必須自己打好。"
      ],
      "metadata": {
        "id": "-JfCseNig4b3"
      }
    },
    {
      "cell_type": "code",
      "source": [
        "lines_to_write = [\n",
        "    \"這是第一行\\n\",\n",
        "    \"這是第二行\\n\",\n",
        "    \"這是第三行\\n\"\n",
        "]\n",
        "\n",
        "# 指定檔案位置\n",
        "target_path = os.path.join(\"my_test_folder\", \"multi_lines.txt\")\n",
        "\n",
        "# 寫入多行\n",
        "with open(target_path, \"w\") as f:\n",
        "    f.writelines(lines_to_write)\n",
        "\n",
        "with open(target_path, \"r\") as f:\n",
        "    r = f.read()\n",
        "\n",
        "print(r)"
      ],
      "metadata": {
        "trusted": true,
        "execution": {
          "iopub.status.busy": "2025-07-05T15:03:30.054435Z",
          "iopub.execute_input": "2025-07-05T15:03:30.054803Z",
          "iopub.status.idle": "2025-07-05T15:03:30.152459Z",
          "shell.execute_reply.started": "2025-07-05T15:03:30.05478Z",
          "shell.execute_reply": "2025-07-05T15:03:30.151425Z"
        },
        "id": "BCbxbtvhg4b3"
      },
      "outputs": [],
      "execution_count": null
    },
    {
      "cell_type": "markdown",
      "source": [
        "剛剛建立的是最簡單的**txt檔**，只需直接用w模式建立+編輯即可，但如果今天要建立的是**資料夾**呢?\n",
        "\n",
        "也差不多，一樣用os.path.join指定路徑，再改以makedirs生成。"
      ],
      "metadata": {
        "id": "HS_SNYJ_g4b5"
      }
    },
    {
      "cell_type": "code",
      "source": [
        "# 要建立的資料夾路徑\n",
        "new_folder = os.path.join(\"my_test_folder\", \"log_folder\")\n",
        "\n",
        "# 建立資料夾（記得用exist_ok=True是否有既存的檔案，如果不存在才會建立）\n",
        "os.makedirs(new_folder, exist_ok=True)\n",
        "\n",
        "print(\"資料夾建立成功！\", new_folder)"
      ],
      "metadata": {
        "trusted": true,
        "execution": {
          "iopub.status.busy": "2025-07-04T16:31:07.381268Z",
          "iopub.execute_input": "2025-07-04T16:31:07.381572Z",
          "iopub.status.idle": "2025-07-04T16:31:07.387823Z",
          "shell.execute_reply.started": "2025-07-04T16:31:07.38155Z",
          "shell.execute_reply": "2025-07-04T16:31:07.386639Z"
        },
        "id": "Z5EduQEsg4b5"
      },
      "outputs": [],
      "execution_count": null
    },
    {
      "cell_type": "markdown",
      "source": [
        "**os.path.exists：判斷資料夾或檔案是否存在的好工具**\n",
        "\n",
        "其他變體還有:\n",
        "* os.path.isfile:判斷是否存在，且是檔案\n",
        "* os.path.isdir:判斷是否存在，且是資料夾"
      ],
      "metadata": {
        "id": "20rFPWbmg4b6"
      }
    },
    {
      "cell_type": "code",
      "source": [
        "test_file = os.path.join(\"my_test_folder\", \"deleteme.txt\")\n",
        "\n",
        "path = os.path.join(\"my_test_folder\", \"log_folder\")\n",
        "\n",
        "if os.path.exists(path):\n",
        "    print(\"✅ 找到了！這個資料夾存在。\")\n",
        "else:\n",
        "    print(\"❌ 沒有這個資料夾。\")\n"
      ],
      "metadata": {
        "trusted": true,
        "execution": {
          "iopub.status.busy": "2025-07-04T16:31:10.032897Z",
          "iopub.execute_input": "2025-07-04T16:31:10.033225Z",
          "iopub.status.idle": "2025-07-04T16:31:10.039354Z",
          "shell.execute_reply.started": "2025-07-04T16:31:10.033203Z",
          "shell.execute_reply": "2025-07-04T16:31:10.038142Z"
        },
        "id": "hgjQ1BQyg4b6"
      },
      "outputs": [],
      "execution_count": null
    },
    {
      "cell_type": "markdown",
      "source": [
        "### **刪除檔案與資料夾**\n",
        "\n",
        "| 類型           | 工具                    | 說明              |\n",
        "| ------------ | --------------------- | --------------- |\n",
        "| 檔案           | `os.remove(path)`     | 刪掉單一檔案          |\n",
        "| 空資料夾         | `os.rmdir(path)`      | 僅能刪掉「空的」資料夾     |\n",
        "| 資料夾（含裡面所有東西） | `shutil.rmtree(path)` | 刪除整個資料夾|\n"
      ],
      "metadata": {
        "id": "X-q7BsO8g4b6"
      }
    },
    {
      "cell_type": "code",
      "source": [
        "# 建一個檔案\n",
        "test_file = os.path.join(\"my_test_folder\", \"deleteme.txt\")\n",
        "with open(test_file, \"w\") as f:\n",
        "    f.write(\"這是要刪掉的測試檔案\")\n",
        "print(\"測試檔案已建立：\", test_file)\n",
        "\n",
        "\n",
        "#驗證檔案存在的話，就刪掉\n",
        "if os.path.exists(test_file):\n",
        "    os.remove(test_file)\n",
        "    print(\"✅ 已刪除檔案\")\n",
        "else:\n",
        "    print(\"❌ 檔案不存在，無法刪除\")"
      ],
      "metadata": {
        "trusted": true,
        "execution": {
          "iopub.status.busy": "2025-07-04T16:31:12.88511Z",
          "iopub.execute_input": "2025-07-04T16:31:12.885395Z",
          "iopub.status.idle": "2025-07-04T16:31:12.892947Z",
          "shell.execute_reply.started": "2025-07-04T16:31:12.885377Z",
          "shell.execute_reply": "2025-07-04T16:31:12.891804Z"
        },
        "id": "zJRNQa57g4b7"
      },
      "outputs": [],
      "execution_count": null
    },
    {
      "cell_type": "markdown",
      "source": [
        "**小練習:** 演示shutil.rmtree(path):\n",
        "* 建立一個資料夾裡面有兩個檔案\n",
        "* 刪除它們"
      ],
      "metadata": {
        "id": "TwCtrfiXg4b7"
      }
    },
    {
      "cell_type": "code",
      "source": [
        "#解答:\n",
        "\n",
        "#建立資料夾\n",
        "big_folder = os.path.join(\"my_test_folder\", \"folder_for_delete\")\n",
        "os.makedirs(big_folder, exist_ok=True)\n",
        "#建立兩檔案(記得設定txt，然後寫內容)\n",
        "with open(os.path.join(big_folder,\"file1.txt\"),\"w\") as f:\n",
        "    f.write(\"刪我啊\")\n",
        "with open(os.path.join(big_folder,\"file2.txt\"),\"w\") as f:\n",
        "    f.write(\"刪我啊呵呵\")\n",
        "\n",
        "\n",
        "\n",
        "#刪除\n",
        "'''注意:shutil不是os模組，所以要額外import'''\n",
        "\n",
        "import shutil\n",
        "if os.path.exists(big_folder):\n",
        "    shutil.rmtree(big_folder)\n",
        "    print(\"✅ 已刪除檔案\")\n",
        "else:\n",
        "    print(\"❌ 檔案不存在，無法刪除\")"
      ],
      "metadata": {
        "trusted": true,
        "execution": {
          "iopub.status.busy": "2025-07-04T16:31:15.921184Z",
          "iopub.execute_input": "2025-07-04T16:31:15.921465Z",
          "iopub.status.idle": "2025-07-04T16:31:15.929975Z",
          "shell.execute_reply.started": "2025-07-04T16:31:15.921447Z",
          "shell.execute_reply": "2025-07-04T16:31:15.928825Z"
        },
        "id": "vSxIW2Lkg4b7"
      },
      "outputs": [],
      "execution_count": null
    },
    {
      "cell_type": "markdown",
      "source": [
        "### **檔案類別過濾--使用 os.walk :**"
      ],
      "metadata": {
        "id": "_AIatEBxg4b8"
      }
    },
    {
      "cell_type": "code",
      "source": [
        "#建立測試環境的主、子資料夾:\n",
        "base = os.path.join(\"my_test_folder\",\"deep_folder\")\n",
        "os.makedirs(os.path.join(base, \"sub1\"), exist_ok=True)\n",
        "os.makedirs(os.path.join(base, \"sub2\"), exist_ok=True)\n",
        "\n",
        "# 建立一些子檔案\n",
        "with open(os.path.join(base, \"main.txt\"), \"w\") as f:\n",
        "    f.write(\"主資料夾內的 txt\")\n",
        "\n",
        "with open(os.path.join(base, \"sub1\", \"s1.txt\"), \"w\") as f:\n",
        "    f.write(\"子資料夾1 的 txt\")\n",
        "\n",
        "with open(os.path.join(base, \"sub2\", \"s2.log\"), \"w\") as f:\n",
        "    f.write(\"子資料夾2 的 log\")\n",
        "\n",
        "print(\"✅ 測試資料夾與檔案建立完成\")\n",
        "\n",
        "\n",
        "\n",
        "#利用迴圈尋遍整個主資料夾\n",
        "for foldername, subfolders, filenames in os.walk(base):\n",
        "    for filename in filenames:\n",
        "        if filename.endswith(\".txt\"):\n",
        "            full_path = os.path.join(foldername, filename)\n",
        "            print(\"找到 txt 檔案：\", full_path)"
      ],
      "metadata": {
        "trusted": true,
        "execution": {
          "iopub.status.busy": "2025-07-04T16:32:24.281156Z",
          "iopub.execute_input": "2025-07-04T16:32:24.282037Z",
          "iopub.status.idle": "2025-07-04T16:32:24.291933Z",
          "shell.execute_reply.started": "2025-07-04T16:32:24.282006Z",
          "shell.execute_reply": "2025-07-04T16:32:24.290918Z"
        },
        "id": "GSePb9_Tg4b8"
      },
      "outputs": [],
      "execution_count": null
    },
    {
      "cell_type": "markdown",
      "source": [
        "仔細看迴圈結構，會發現有**foldername, subfolders, filenames**三個變數，是可以自己設定名稱的\n",
        "\n",
        "它們代表的分別是:**(主資料夾、子資料夾**(可不使用)**、檔案清單)**\n",
        "\n",
        "因此os.walk(base)的意思是讓程式尋遍整個主資料夾deep_folder，而底下尋遍base中的所有檔案則表示成: for XXX in filenames"
      ],
      "metadata": {
        "id": "lUGSnf6cg4b8"
      }
    },
    {
      "cell_type": "markdown",
      "source": [
        "**單元 2 小挑戰任務：**\n",
        "\n",
        "🎯 任務目標：\n",
        "請你寫一段程式碼，能夠：\n",
        "* 在 my_test_folder 裡面遞迴找出所有 .txt 檔案\n",
        "* 把這些 .txt 檔案複製到 my_test_folder/collected_txts 資料夾（這個資料夾如果不存在要先建立）\n",
        "* 印出所有被複製的 .txt 檔案完整路徑\n",
        "\n",
        "提示:複製檔案需使用:shutil.copy(來源, 目的地)，這是首次使用!"
      ],
      "metadata": {
        "id": "PzX5K7ORg4b8"
      }
    },
    {
      "cell_type": "code",
      "source": [
        "#解答:\n",
        "\n",
        "import os\n",
        "import shutil\n",
        "\n",
        "#建立collected_txts\n",
        "folder = os.path.join(\"my_test_folder\", \"collected_txts\")\n",
        "os.makedirs(folder, exist_ok=True)\n",
        "\n",
        "#迴圈\n",
        "base = os.path.join(\"my_test_folder\")\n",
        "for 主資料夾,子資料夾,檔案 in os.walk(base):\n",
        "    for 檔案個體 in 檔案:\n",
        "        if 檔案個體.endswith(\".txt\"):\n",
        "            full_path = os.path.join(主資料夾, 檔案個體)\n",
        "            shutil.copy(full_path, folder)\n",
        "            print(full_path)\n",
        "\n",
        "\n",
        "'''會出現一個關於檔名重複的錯誤，但在這邊我們先忽略'''"
      ],
      "metadata": {
        "trusted": true,
        "execution": {
          "iopub.status.busy": "2025-07-04T16:32:30.994024Z",
          "iopub.execute_input": "2025-07-04T16:32:30.994331Z",
          "iopub.status.idle": "2025-07-04T16:32:31.015079Z",
          "shell.execute_reply.started": "2025-07-04T16:32:30.99431Z",
          "shell.execute_reply": "2025-07-04T16:32:31.013459Z"
        },
        "id": "UezduPoFg4b9"
      },
      "outputs": [],
      "execution_count": null
    }
  ]
}