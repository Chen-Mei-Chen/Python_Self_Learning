{
  "metadata": {
    "kernelspec": {
      "language": "python",
      "display_name": "Python 3",
      "name": "python3"
    },
    "language_info": {
      "name": "python",
      "version": "3.11.11",
      "mimetype": "text/x-python",
      "codemirror_mode": {
        "name": "ipython",
        "version": 3
      },
      "pygments_lexer": "ipython3",
      "nbconvert_exporter": "python",
      "file_extension": ".py"
    },
    "kaggle": {
      "accelerator": "none",
      "dataSources": [],
      "dockerImageVersionId": 31040,
      "isInternetEnabled": true,
      "language": "python",
      "sourceType": "notebook",
      "isGpuEnabled": false
    },
    "colab": {
      "name": "<Python自學筆記>Numpy",
      "provenance": [],
      "include_colab_link": true
    }
  },
  "nbformat_minor": 0,
  "nbformat": 4,
  "cells": [
    {
      "cell_type": "markdown",
      "metadata": {
        "id": "view-in-github",
        "colab_type": "text"
      },
      "source": [
        "<a href=\"https://colab.research.google.com/github/Chen-Mei-Chen/Python_Self_Learning/blob/main/%3CPython%E7%AD%86%E8%A8%98%3ENumpy.ipynb\" target=\"_parent\"><img src=\"https://colab.research.google.com/assets/colab-badge.svg\" alt=\"Open In Colab\"/></a>"
      ]
    },
    {
      "cell_type": "markdown",
      "source": [
        ">本筆記本是一個自學者的筆記\n",
        ">\n",
        ">當時搭配的資源: [點此](https://youtube.com/playlist?list=PLCC34OHNcOtpalASMlX2HHdsLNipyyhbK&feature=shared) (內部的程式碼不少與之雷同，故可直接在本notebook進行實驗)"
      ],
      "metadata": {
        "id": "nLy_UEyelWBf"
      }
    },
    {
      "cell_type": "markdown",
      "source": [
        "### **Numpy是甚麼**\n",
        "\n",
        "Numpy基本上就是矩陣的計算工具，常用於機器學習、數據分析領域\n",
        "\n",
        "首先在IDE中要先pip instal numpy"
      ],
      "metadata": {
        "id": "ARk8a703lWBj"
      }
    },
    {
      "cell_type": "code",
      "source": [
        "import numpy as np\n",
        "\n",
        "#這是示範印出矩陣功能:\n",
        "np1 = np.array([0,1,2,3,4,5,6,7,8,9])\n",
        "print(np1)\n",
        "\n",
        "#數出矩陣有多少元素:\n",
        "print(np1.shape)\n",
        "\n",
        "#從0到9的數字矩陣\n",
        "np2 = np.arange(10)\n",
        "print(np2)\n",
        "#一樣，不過step=2\n",
        "np3 = np.arange(0,10,2)\n",
        "print(np3)\n",
        "\n",
        "#創造十個0.\n",
        "np4 = np.zeros(10)\n",
        "print(np4)\n",
        "\n",
        "'''以上都是一維的矩陣陣列，接下來我們試著創造二維的0矩陣:'''\n",
        "\n",
        "#創造兩行10個的0:\n",
        "np5 = np.zeros((2,10)) #這邊記得雙括號\n",
        "print(np5)"
      ],
      "metadata": {
        "_uuid": "8f2839f25d086af736a60e9eeb907d3b93b6e0e5",
        "_cell_guid": "b1076dfc-b9ad-4769-8c92-a6c4dae69d19",
        "trusted": true,
        "execution": {
          "iopub.status.busy": "2025-06-21T16:46:54.487603Z",
          "iopub.execute_input": "2025-06-21T16:46:54.487934Z",
          "iopub.status.idle": "2025-06-21T16:46:54.497483Z",
          "shell.execute_reply.started": "2025-06-21T16:46:54.487907Z",
          "shell.execute_reply": "2025-06-21T16:46:54.496037Z"
        },
        "id": "yr5WGpbClWBl",
        "outputId": "ae177b86-b2e9-4e61-919d-784cca2b6560"
      },
      "outputs": [
        {
          "name": "stdout",
          "text": "[0 1 2 3 4 5 6 7 8 9]\n(10,)\n[0 1 2 3 4 5 6 7 8 9]\n[0 2 4 6 8]\n[0. 0. 0. 0. 0. 0. 0. 0. 0. 0.]\n[[0. 0. 0. 0. 0. 0. 0. 0. 0. 0.]\n [0. 0. 0. 0. 0. 0. 0. 0. 0. 0.]]\n",
          "output_type": "stream"
        }
      ],
      "execution_count": null
    },
    {
      "cell_type": "markdown",
      "source": [
        "以上是有關array、arange、zeros函數的介紹，其實有一個函數叫做:full可以取代上面這一切\n",
        "\n",
        "比方說full函數可以:\n",
        "* 印出十個6，而不僅限於0\n",
        "* 印出兩行十個6"
      ],
      "metadata": {
        "id": "ZIwshs1TlWBp"
      }
    },
    {
      "cell_type": "code",
      "source": [
        "np6 = np.full((10),6)\n",
        "print(np6)\n",
        "\n",
        "np7 = np.full((2,10),6)\n",
        "print(np7)"
      ],
      "metadata": {
        "trusted": true,
        "execution": {
          "iopub.status.busy": "2025-06-20T07:39:49.528616Z",
          "iopub.execute_input": "2025-06-20T07:39:49.529674Z",
          "iopub.status.idle": "2025-06-20T07:39:49.535287Z",
          "shell.execute_reply.started": "2025-06-20T07:39:49.529639Z",
          "shell.execute_reply": "2025-06-20T07:39:49.534239Z"
        },
        "id": "bZasCHs5lWBp",
        "outputId": "27a03081-f38e-4a89-c047-feb3894ebc67"
      },
      "outputs": [
        {
          "name": "stdout",
          "text": "[6 6 6 6 6 6 6 6 6 6]\n[[6 6 6 6 6 6 6 6 6 6]\n [6 6 6 6 6 6 6 6 6 6]]\n",
          "output_type": "stream"
        }
      ],
      "execution_count": null
    },
    {
      "cell_type": "markdown",
      "source": [
        "### **numpy跟list的差異?**\n",
        "\n",
        "\n",
        "* numpy一次只能儲存單一形式的資料型態，而list可以讓數字、字串、布林值共存\n",
        "  \n",
        "* numpy可處理多維矩陣運算，而list基本上還要編寫for迴圈去做巢狀結構\n",
        "\n",
        "\n",
        "不過，兩者之間不只相似，還可以互相互動\n",
        "\n",
        "比方說:我們可以先用list自訂array值，送進numpy，然後numpy的矩陣中的元素也可以用0~n的序號訪問"
      ],
      "metadata": {
        "id": "QxGz0_j8lWBq"
      }
    },
    {
      "cell_type": "code",
      "source": [
        "#先用list自訂array值，送進numpy\n",
        "my_list = [1,2,3,4,5]\n",
        "np8 = np.array(my_list)\n",
        "print(np8)\n",
        "\n",
        "#numpy的矩陣中的元素也可以用0~n的序號訪問\n",
        "print(np8[0]) #記得，是用中括號\n",
        "print(np8[0:2])\n",
        "print(np8[2:])\n",
        "print(np8[-3:-1])"
      ],
      "metadata": {
        "trusted": true,
        "execution": {
          "iopub.status.busy": "2025-06-20T07:40:42.446418Z",
          "iopub.execute_input": "2025-06-20T07:40:42.446747Z",
          "iopub.status.idle": "2025-06-20T07:40:42.454765Z",
          "shell.execute_reply.started": "2025-06-20T07:40:42.446722Z",
          "shell.execute_reply": "2025-06-20T07:40:42.453421Z"
        },
        "id": "7chgWinzlWBr",
        "outputId": "dcd0633b-4f1e-4b6a-b44a-5fd20a1cfa29"
      },
      "outputs": [
        {
          "name": "stdout",
          "text": "[1 2 3 4 5]\n1\n[1 2]\n[3 4 5]\n[3 4]\n",
          "output_type": "stream"
        }
      ],
      "execution_count": null
    },
    {
      "cell_type": "code",
      "source": [
        "'''序號訪問結合step:'''\n",
        "#[1,2,3,4,5]\n",
        "\n",
        "#印出第1到3的序號，不過step=2\n",
        "print(np8[1:4:2])\n",
        "\n",
        "#整個矩陣下去step:\n",
        "print(np8[::2])"
      ],
      "metadata": {
        "trusted": true,
        "execution": {
          "iopub.status.busy": "2025-06-20T07:41:06.348441Z",
          "iopub.execute_input": "2025-06-20T07:41:06.348759Z",
          "iopub.status.idle": "2025-06-20T07:41:06.354987Z",
          "shell.execute_reply.started": "2025-06-20T07:41:06.348732Z",
          "shell.execute_reply": "2025-06-20T07:41:06.353398Z"
        },
        "id": "aE3U8aW0lWBt",
        "outputId": "eeb8d187-6482-4cfa-cebf-c63bdb17bb54"
      },
      "outputs": [
        {
          "name": "stdout",
          "text": "[2 4]\n[1 3 5]\n",
          "output_type": "stream"
        }
      ],
      "execution_count": null
    },
    {
      "cell_type": "markdown",
      "source": [
        "我們已經熟悉一維陣列的基礎，接下來看\n",
        "\n",
        "**二維的序列呼叫:**"
      ],
      "metadata": {
        "id": "Ms8aw_J2lWBu"
      }
    },
    {
      "cell_type": "code",
      "source": [
        "np2d = np.array([[1,2,3,4,5],[6,7,8,9,10]]) #記得兩層中括號\n",
        "print(np2d[1,2])\n",
        "#由此看出，1指的是序列1的列，2是該序列的第二個元素，因此返回8\n",
        "\n",
        "#也可以用序列方法一次返回包含的子矩陣\n",
        "print(np2d[0:2,1:3])\n",
        "#翻譯:序號0到1的列中的1到2項"
      ],
      "metadata": {
        "trusted": true,
        "execution": {
          "iopub.status.busy": "2025-06-20T10:49:02.468341Z",
          "iopub.execute_input": "2025-06-20T10:49:02.469013Z",
          "iopub.status.idle": "2025-06-20T10:49:02.47581Z",
          "shell.execute_reply.started": "2025-06-20T10:49:02.468971Z",
          "shell.execute_reply": "2025-06-20T10:49:02.474695Z"
        },
        "id": "UySIvG1VlWBv",
        "outputId": "88883f3c-8b69-4ff5-800a-e88707f7ee58"
      },
      "outputs": [
        {
          "name": "stdout",
          "text": "8\n[[2 3]\n [7 8]]\n",
          "output_type": "stream"
        }
      ],
      "execution_count": null
    },
    {
      "cell_type": "markdown",
      "source": [
        "### **Numpy的威力-自動遍歷的數學**\n",
        "\n",
        "以前要讓所有數據進行運算，需要使用for迴圈，現在numpy有各種函式對矩陣內所有元素進行運算:"
      ],
      "metadata": {
        "id": "Nt5D5vVVlWBw"
      }
    },
    {
      "cell_type": "code",
      "source": [
        "#[[1,2,3,4,5],[6,7,8,9,10]]\n",
        "\n",
        "#把所有元素開根號:\n",
        "print(np.sqrt(np2d))\n",
        "\n",
        "#絕對值:\n",
        "print(np.absolute(np2d))\n",
        "\n",
        "#e的幾次方\n",
        "print(np.exp(np2d))\n",
        "\n",
        "#找最大最小值:\n",
        "print(np.max(np2d))\n",
        "\n",
        "#把所有正數代換成1，負數代換成-1，0還是0:\n",
        "print(np.sign(np2d))"
      ],
      "metadata": {
        "trusted": true,
        "execution": {
          "iopub.status.busy": "2025-06-20T11:41:46.463434Z",
          "iopub.execute_input": "2025-06-20T11:41:46.463785Z",
          "iopub.status.idle": "2025-06-20T11:41:46.471611Z",
          "shell.execute_reply.started": "2025-06-20T11:41:46.463764Z",
          "shell.execute_reply": "2025-06-20T11:41:46.4702Z"
        },
        "id": "q-L5ewVQlWBw",
        "outputId": "365238ac-c4d2-4529-ef98-dc17d7548bcd"
      },
      "outputs": [
        {
          "name": "stdout",
          "text": "[[1.         1.41421356 1.73205081 2.         2.23606798]\n [2.44948974 2.64575131 2.82842712 3.         3.16227766]]\n[[ 1  2  3  4  5]\n [ 6  7  8  9 10]]\n[[2.71828183e+00 7.38905610e+00 2.00855369e+01 5.45981500e+01\n  1.48413159e+02]\n [4.03428793e+02 1.09663316e+03 2.98095799e+03 8.10308393e+03\n  2.20264658e+04]]\n10\n[[1 1 1 1 1]\n [1 1 1 1 1]]\n",
          "output_type": "stream"
        }
      ],
      "execution_count": null
    },
    {
      "cell_type": "markdown",
      "source": [
        "當然，不是只有這樣，還有sin、cos、log...\n",
        "\n",
        "可以上 Numpy universal function docs 查看更多，或是把整個網站餵給AI叫它找"
      ],
      "metadata": {
        "id": "1WW-3fp_lWBw"
      }
    },
    {
      "cell_type": "markdown",
      "source": [
        "### **view vs copy**\n",
        "\n",
        "np.view是一種共享記憶體的形式，假設b=a.view()，日後a的資料被修改，b也會一起被更動\n",
        "\n",
        "np.copy則使用獨立的記憶體，日後a被修改，b會維持原本的樣子"
      ],
      "metadata": {
        "id": "8kR6qsNdlWBx"
      }
    },
    {
      "cell_type": "code",
      "source": [
        "#共患難的view:\n",
        "\n",
        "a = np.array([1, 2, 3])\n",
        "b = a.view()\n",
        "b[0] = 100\n",
        "\n",
        "print(a)\n",
        "print(b)"
      ],
      "metadata": {
        "trusted": true,
        "execution": {
          "iopub.status.busy": "2025-06-20T12:25:13.208538Z",
          "iopub.execute_input": "2025-06-20T12:25:13.208869Z",
          "iopub.status.idle": "2025-06-20T12:25:13.215865Z",
          "shell.execute_reply.started": "2025-06-20T12:25:13.208845Z",
          "shell.execute_reply": "2025-06-20T12:25:13.2146Z"
        },
        "id": "aMWmcIzmlWBx",
        "outputId": "01359316-94ea-4a1e-f3dd-72791b921e60"
      },
      "outputs": [
        {
          "name": "stdout",
          "text": "[100   2   3]\n[100   2   3]\n",
          "output_type": "stream"
        }
      ],
      "execution_count": null
    },
    {
      "cell_type": "code",
      "source": [
        "#各自獨立的copy:\n",
        "\n",
        "c = a.copy()\n",
        "c[0] = 999\n",
        "\n",
        "print(a)\n",
        "print(c)\n"
      ],
      "metadata": {
        "trusted": true,
        "execution": {
          "iopub.status.busy": "2025-06-20T12:25:17.726769Z",
          "iopub.execute_input": "2025-06-20T12:25:17.727166Z",
          "iopub.status.idle": "2025-06-20T12:25:17.733576Z",
          "shell.execute_reply.started": "2025-06-20T12:25:17.727121Z",
          "shell.execute_reply": "2025-06-20T12:25:17.732426Z"
        },
        "id": "0wk88qc1lWBx",
        "outputId": "10ec2626-76ce-4f16-bf91-3ea7a22e9d17"
      },
      "outputs": [
        {
          "name": "stdout",
          "text": "[100   2   3]\n[999   2   3]\n",
          "output_type": "stream"
        }
      ],
      "execution_count": null
    },
    {
      "cell_type": "markdown",
      "source": [
        "### **shape & reshape**\n",
        "\n",
        "shape函數可以說是描繪出矩陣的形狀，而reshape則是用形狀建造出實際的矩陣"
      ],
      "metadata": {
        "id": "KwppeCbDlWBy"
      }
    },
    {
      "cell_type": "code",
      "source": [
        "#描繪矩陣形狀的shape:\n",
        "\n",
        "#一維:\n",
        "npa = np.array([1,2,3,4,5,6,7,8])\n",
        "print(npa.shape) #須注意，不是shape()\n",
        "\n",
        "#二維:\n",
        "npa2d = np.array([[1,2,3,4,5],[6,7,8,9,10]])\n",
        "print(npa2d.shape)\n",
        "#可以看到結果會顯示它是幾乘幾的矩陣"
      ],
      "metadata": {
        "trusted": true,
        "execution": {
          "iopub.status.busy": "2025-06-20T15:14:49.521447Z",
          "iopub.execute_input": "2025-06-20T15:14:49.521758Z",
          "iopub.status.idle": "2025-06-20T15:14:49.52788Z",
          "shell.execute_reply.started": "2025-06-20T15:14:49.521732Z",
          "shell.execute_reply": "2025-06-20T15:14:49.526929Z"
        },
        "id": "Vue1mnINlWBy",
        "outputId": "3cae8caf-931c-4cb8-c342-68fbf0dde603"
      },
      "outputs": [
        {
          "name": "stdout",
          "text": "(8,)\n(2, 5)\n",
          "output_type": "stream"
        }
      ],
      "execution_count": null
    },
    {
      "cell_type": "code",
      "source": [
        "#用形狀建立矩陣的reshape\n",
        "\n",
        "#二維:\n",
        "npc = npa.reshape(2,4)\n",
        "print(npc)\n",
        "\n",
        "#三維:有\"高\"的概念，會把每一個二維層切開展示\n",
        "npd = npa.reshape(2,2,2)\n",
        "print(npd)\n",
        "\n",
        "#從n維降到一維\n",
        "npe = npd.reshape(-1) #填入維度\n",
        "print(npe)"
      ],
      "metadata": {
        "trusted": true,
        "execution": {
          "iopub.status.busy": "2025-06-20T15:15:24.97342Z",
          "iopub.execute_input": "2025-06-20T15:15:24.973769Z",
          "iopub.status.idle": "2025-06-20T15:15:24.981615Z",
          "shell.execute_reply.started": "2025-06-20T15:15:24.973741Z",
          "shell.execute_reply": "2025-06-20T15:15:24.98019Z"
        },
        "id": "w3gsgT4ZlWBz",
        "outputId": "385e047b-f56b-4f4b-a90a-a98ec161f2ab"
      },
      "outputs": [
        {
          "name": "stdout",
          "text": "[[1 2 3 4]\n [5 6 7 8]]\n[[[1 2]\n  [3 4]]\n\n [[5 6]\n  [7 8]]]\n[1 2 3 4 5 6 7 8]\n",
          "output_type": "stream"
        }
      ],
      "execution_count": null
    },
    {
      "cell_type": "markdown",
      "source": [
        "### **矩陣內部的遍歷:**"
      ],
      "metadata": {
        "id": "b-Gn2TwqlWBz"
      }
    },
    {
      "cell_type": "code",
      "source": [
        "#一維遍歷\n",
        "\n",
        "np1 = np.array([1,2,3,4,5])\n",
        "for x in np1:\n",
        "    print(x)"
      ],
      "metadata": {
        "trusted": true,
        "execution": {
          "iopub.status.busy": "2025-06-20T15:30:44.40898Z",
          "iopub.execute_input": "2025-06-20T15:30:44.40925Z",
          "iopub.status.idle": "2025-06-20T15:30:44.41504Z",
          "shell.execute_reply.started": "2025-06-20T15:30:44.40923Z",
          "shell.execute_reply": "2025-06-20T15:30:44.414062Z"
        },
        "id": "0-LwU3T6lWBz",
        "outputId": "6ae71112-c95d-4b02-81fa-c26aa230998d"
      },
      "outputs": [
        {
          "name": "stdout",
          "text": "1\n2\n3\n4\n5\n",
          "output_type": "stream"
        }
      ],
      "execution_count": null
    },
    {
      "cell_type": "code",
      "source": [
        "#二維遍歷\n",
        "\n",
        "#第一次遍歷，只會把所有的\"列\"都秀出來，如下:\n",
        "np2 = np.array([[1,2,3,4,5],[6,7,8,9,10]])\n",
        "for x in np2:\n",
        "    print(x)\n",
        "\n",
        "#所以要再加一層，如下:\n",
        "for x in np2:\n",
        "    for y in x:\n",
        "        print(y)"
      ],
      "metadata": {
        "trusted": true,
        "execution": {
          "iopub.status.busy": "2025-06-20T15:38:27.253336Z",
          "iopub.execute_input": "2025-06-20T15:38:27.253687Z",
          "iopub.status.idle": "2025-06-20T15:38:27.259972Z",
          "shell.execute_reply.started": "2025-06-20T15:38:27.25366Z",
          "shell.execute_reply": "2025-06-20T15:38:27.258931Z"
        },
        "id": "ARiTEtQ-lWB0",
        "outputId": "c49da8b6-da50-4679-c715-71deef2a131b"
      },
      "outputs": [
        {
          "name": "stdout",
          "text": "[1 2 3 4 5]\n[ 6  7  8  9 10]\n1\n2\n3\n4\n5\n6\n7\n8\n9\n10\n",
          "output_type": "stream"
        }
      ],
      "execution_count": null
    },
    {
      "cell_type": "code",
      "source": [
        "#三維遍歷\n",
        "\n",
        "np3 = np.array([[[1,2,3],\n",
        "                [4,5,6]],\n",
        "               [[7,8,9],\n",
        "               [10,11,12]]])\n",
        "#當然，也可以橫的打，只是容易錯亂[[[1,2,3],[4,5,6]],[[7,8,9],[10,11,12]]]\n",
        "for x in np3:\n",
        "    for y in x:\n",
        "        for z in y:\n",
        "            print(z)"
      ],
      "metadata": {
        "trusted": true,
        "execution": {
          "iopub.status.busy": "2025-06-20T15:49:30.082459Z",
          "iopub.execute_input": "2025-06-20T15:49:30.08278Z",
          "iopub.status.idle": "2025-06-20T15:49:30.08891Z",
          "shell.execute_reply.started": "2025-06-20T15:49:30.082756Z",
          "shell.execute_reply": "2025-06-20T15:49:30.087655Z"
        },
        "id": "5dtr_zwnlWB0",
        "outputId": "5db0fa0d-4aba-4ea9-ad78-6797b691e9c4"
      },
      "outputs": [
        {
          "name": "stdout",
          "text": "1\n2\n3\n4\n5\n6\n7\n8\n9\n10\n11\n12\n",
          "output_type": "stream"
        }
      ],
      "execution_count": null
    },
    {
      "cell_type": "markdown",
      "source": [
        "但，這未免太麻煩了，使用nditer函式只需迭代一次就行，不限任何維度!"
      ],
      "metadata": {
        "id": "Yv37go6PlWB0"
      }
    },
    {
      "cell_type": "code",
      "source": [
        "#使用nditer:\n",
        "\n",
        "for x in np.nditer(np3):\n",
        "    print(x)"
      ],
      "metadata": {
        "trusted": true,
        "execution": {
          "iopub.status.busy": "2025-06-20T15:57:42.208497Z",
          "iopub.execute_input": "2025-06-20T15:57:42.208791Z",
          "iopub.status.idle": "2025-06-20T15:57:42.214151Z",
          "shell.execute_reply.started": "2025-06-20T15:57:42.20877Z",
          "shell.execute_reply": "2025-06-20T15:57:42.213056Z"
        },
        "id": "QBT_UfqDlWB0",
        "outputId": "b26eba03-c28e-48e8-b4ab-a07703e4b685"
      },
      "outputs": [
        {
          "name": "stdout",
          "text": "1\n2\n3\n4\n5\n6\n7\n8\n9\n10\n11\n12\n",
          "output_type": "stream"
        }
      ],
      "execution_count": null
    },
    {
      "cell_type": "markdown",
      "source": [
        "### **讓矩陣重新排列-Sort函數:**"
      ],
      "metadata": {
        "id": "2n0RyxVmlWB1"
      }
    },
    {
      "cell_type": "code",
      "source": [
        "#排序矩陣:\n",
        "np1 = np.array([2,5,3,1,7,0])\n",
        "print(np.sort(np1))\n",
        "\n",
        "#其他像是字串、布林值的矩陣，就是從字母a排到z、從false排到true(不奇怪，就是0排到1的概念)\n",
        "\n",
        "#甚至連二維都可以對每個列中的元素進行排序:\n",
        "np2 = np.array([[1,5,3],[2,6,0]])\n",
        "print(np.sort(np2))"
      ],
      "metadata": {
        "trusted": true,
        "execution": {
          "iopub.status.busy": "2025-06-21T13:28:42.102727Z",
          "iopub.execute_input": "2025-06-21T13:28:42.103066Z",
          "iopub.status.idle": "2025-06-21T13:28:42.109768Z",
          "shell.execute_reply.started": "2025-06-21T13:28:42.103039Z",
          "shell.execute_reply": "2025-06-21T13:28:42.108862Z"
        },
        "id": "MRt_ht00lWB1",
        "outputId": "860b6a54-d62a-4d4d-9615-a1596624fd4f"
      },
      "outputs": [
        {
          "name": "stdout",
          "text": "[0 1 2 3 5 7]\n[[1 3 5]\n [0 2 6]]\n",
          "output_type": "stream"
        }
      ],
      "execution_count": null
    },
    {
      "cell_type": "markdown",
      "source": [
        "### **搜尋矩陣裡面的元素-where函式:**"
      ],
      "metadata": {
        "id": "8fes7Vy5lWB1"
      }
    },
    {
      "cell_type": "code",
      "source": [
        "#尋找矩陣裡的單一元素，並返回該序列+資料的型態\n",
        "np1 = np.array([1,2,3,4,5,6,7,8,9,10])\n",
        "x = np.where(np1 == 3)\n",
        "print(x)"
      ],
      "metadata": {
        "trusted": true,
        "execution": {
          "iopub.status.busy": "2025-06-21T16:59:10.380493Z",
          "iopub.execute_input": "2025-06-21T16:59:10.380825Z",
          "iopub.status.idle": "2025-06-21T16:59:10.388763Z",
          "shell.execute_reply.started": "2025-06-21T16:59:10.3808Z",
          "shell.execute_reply": "2025-06-21T16:59:10.387461Z"
        },
        "id": "PghW_6rqlWB1",
        "outputId": "3defa7b8-fc98-43c0-db51-9b1d735dca5b"
      },
      "outputs": [
        {
          "name": "stdout",
          "text": "(array([2]),)\n",
          "output_type": "stream"
        }
      ],
      "execution_count": null
    },
    {
      "cell_type": "markdown",
      "source": [
        "一般來說，會輸出:(array(\\[2],dtype = int64),)\n",
        "\n",
        "對，這是一個格式奇怪的tuple，只是不知為何kaggle沒有顯示出後面那一項\n",
        "\n",
        "\n",
        "不過有時我們不需要這種tuple形式的回傳，有時我們只想:\n",
        "* 只給出序列值即可\n",
        "* 只給出資料型態即可\n",
        "\n",
        "則，我們可以指定我們要tuple的哪一項:"
      ],
      "metadata": {
        "id": "MDni7aRglWB2"
      }
    },
    {
      "cell_type": "code",
      "source": [
        "#以只給出序列值為例:\n",
        "\n",
        "print(x[0]) #因為x=(array([2],dtype = int64),)，取第0項\n",
        "\n",
        "'''如果一個矩陣有兩個3，也有一樣效果'''\n",
        "np2 = np.array([1,2,3,4,5,6,7,8,9,10,3])\n",
        "y = np.where(np2 == 3)\n",
        "print(y[0])"
      ],
      "metadata": {
        "trusted": true,
        "execution": {
          "iopub.status.busy": "2025-06-21T16:59:13.704312Z",
          "iopub.execute_input": "2025-06-21T16:59:13.704679Z",
          "iopub.status.idle": "2025-06-21T16:59:13.712694Z",
          "shell.execute_reply.started": "2025-06-21T16:59:13.704654Z",
          "shell.execute_reply": "2025-06-21T16:59:13.710977Z"
        },
        "id": "bkc4y5_DlWB2",
        "outputId": "2ca639e5-d884-45cc-f150-ff6530e90e3f"
      },
      "outputs": [
        {
          "name": "stdout",
          "text": "[2]\n[ 2 10]\n",
          "output_type": "stream"
        }
      ],
      "execution_count": null
    },
    {
      "cell_type": "markdown",
      "source": [
        "如果，我們想查看矩陣中\"所有的3\"，而不是3所在的\"序號\"的話，可以這樣寫:\n",
        "\n",
        "這樣寫的邏輯在於，**y\\[0]** 會返回3所處的所有序號，然而還記得嗎? **np2\\[序號]** 可返回對應的值，所以用此方法，可以找到所有的3本尊"
      ],
      "metadata": {
        "id": "UnxpujZQlWB2"
      }
    },
    {
      "cell_type": "code",
      "source": [
        "print(np2[y[0]])"
      ],
      "metadata": {
        "trusted": true,
        "execution": {
          "iopub.status.busy": "2025-06-21T16:59:16.524314Z",
          "iopub.execute_input": "2025-06-21T16:59:16.525193Z",
          "iopub.status.idle": "2025-06-21T16:59:16.530703Z",
          "shell.execute_reply.started": "2025-06-21T16:59:16.525124Z",
          "shell.execute_reply": "2025-06-21T16:59:16.529217Z"
        },
        "id": "T6398J8IlWB2",
        "outputId": "a9332a0a-a5c4-4c6c-c4e2-7e71cd2ba560"
      },
      "outputs": [
        {
          "name": "stdout",
          "text": "[3 3]\n",
          "output_type": "stream"
        }
      ],
      "execution_count": null
    },
    {
      "cell_type": "markdown",
      "source": [
        "**結合數學-用where找出特定規則的值**\n",
        "\n",
        "基本上，在where內部填入關係式，where就會找出符合關係式的值\n",
        "\n",
        "以下以\"找出所有偶數\"為例:"
      ],
      "metadata": {
        "id": "XKX2WjyvlWB3"
      }
    },
    {
      "cell_type": "code",
      "source": [
        "z = np.where(np1 % 2 == 0)\n",
        "print(z[0])      #返回所有偶數對應的序號\n",
        "print(np1[z[0]]) #返回所有偶數值的值"
      ],
      "metadata": {
        "trusted": true,
        "execution": {
          "iopub.status.busy": "2025-06-21T17:11:39.171866Z",
          "iopub.execute_input": "2025-06-21T17:11:39.172243Z",
          "iopub.status.idle": "2025-06-21T17:11:39.18056Z",
          "shell.execute_reply.started": "2025-06-21T17:11:39.172214Z",
          "shell.execute_reply": "2025-06-21T17:11:39.179364Z"
        },
        "id": "n9xaG1M4lWB3",
        "outputId": "953d04d2-e26c-4bf0-e264-77a1eec919a7"
      },
      "outputs": [
        {
          "name": "stdout",
          "text": "[1 3 5 7 9]\n[ 2  4  6  8 10]\n",
          "output_type": "stream"
        }
      ],
      "execution_count": null
    },
    {
      "cell_type": "markdown",
      "source": [
        "### **矩陣元素篩選**\n",
        "\n",
        "用以下方法可以篩選出想要的特定值:"
      ],
      "metadata": {
        "id": "fc2KK1fqlWB3"
      }
    },
    {
      "cell_type": "code",
      "source": [
        "#利用布林值篩選想要的值\n",
        "np1 = np.array([1,2,3,4,5])\n",
        "x = [True,False,True,False,False]\n",
        "print(np1[x])"
      ],
      "metadata": {
        "trusted": true,
        "execution": {
          "iopub.status.busy": "2025-06-21T17:27:59.128017Z",
          "iopub.execute_input": "2025-06-21T17:27:59.128418Z",
          "iopub.status.idle": "2025-06-21T17:27:59.134983Z",
          "shell.execute_reply.started": "2025-06-21T17:27:59.128392Z",
          "shell.execute_reply": "2025-06-21T17:27:59.133821Z"
        },
        "id": "Mev03StylWB3",
        "outputId": "da208bd5-646e-4b35-a978-5121640accf9"
      },
      "outputs": [
        {
          "name": "stdout",
          "text": "[1 3]\n",
          "output_type": "stream"
        }
      ],
      "execution_count": null
    },
    {
      "cell_type": "markdown",
      "source": [
        "但...我們怎麼可能一個一個打布林值?\n",
        "\n",
        "因此需要結合for迴圈，引進filter技術:"
      ],
      "metadata": {
        "id": "zdzcDrUrlWB4"
      }
    },
    {
      "cell_type": "code",
      "source": [
        "#以篩選出偶數值為例:\n",
        "\n",
        "filtered = [] #這是在令一個空矩陣，用來存放我們等等過濾的值，不一定要命名為filtered\n",
        "for i in np1:\n",
        "    if i % 2 == 0:\n",
        "        filtered.append(True)\n",
        "    else:\n",
        "        filtered.append(False)\n",
        "print(np1[filtered])"
      ],
      "metadata": {
        "trusted": true,
        "execution": {
          "iopub.status.busy": "2025-06-21T17:39:49.436054Z",
          "iopub.execute_input": "2025-06-21T17:39:49.43643Z",
          "iopub.status.idle": "2025-06-21T17:39:49.445725Z",
          "shell.execute_reply.started": "2025-06-21T17:39:49.436401Z",
          "shell.execute_reply": "2025-06-21T17:39:49.443663Z"
        },
        "id": "dNBWdXtolWB4",
        "outputId": "a40b8188-a757-40f0-8a7a-a33931497282"
      },
      "outputs": [
        {
          "name": "stdout",
          "text": "[2 4]\n",
          "output_type": "stream"
        }
      ],
      "execution_count": null
    },
    {
      "cell_type": "code",
      "source": [
        "#更簡潔的寫法:\n",
        "\n",
        "filtered2 = np1 % 2 == 0\n",
        "print(filtered2)\n",
        "\n",
        "#可以看見這樣返回的是布林值!因此要寫成:\n",
        "print(np1[filtered2])"
      ],
      "metadata": {
        "trusted": true,
        "execution": {
          "iopub.status.busy": "2025-06-21T17:47:01.831614Z",
          "iopub.execute_input": "2025-06-21T17:47:01.831918Z",
          "iopub.status.idle": "2025-06-21T17:47:01.837985Z",
          "shell.execute_reply.started": "2025-06-21T17:47:01.831896Z",
          "shell.execute_reply": "2025-06-21T17:47:01.836769Z"
        },
        "id": "dBnjBk-XlWCC",
        "outputId": "e00b6e84-b80d-4a7d-ef02-a3dd9af0c07b"
      },
      "outputs": [
        {
          "name": "stdout",
          "text": "[False  True False  True False]\n[2 4]\n",
          "output_type": "stream"
        }
      ],
      "execution_count": null
    },
    {
      "cell_type": "markdown",
      "source": [
        "無論是用哪種方法，我們日後都可以用各種關係式、條件，來判斷矩陣內的元素是否符合(True)或不符合(False)這條關係式，進而對其採取動作，可以說這個世界是由布林值所組成一點也不為過。"
      ],
      "metadata": {
        "id": "sl36ypielWCD"
      }
    }
  ]
}